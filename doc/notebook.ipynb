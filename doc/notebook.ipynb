{
 "cells": [
  {
   "cell_type": "markdown",
   "metadata": {},
   "source": [
    "# Example Jupyter Notebook\n",
    "In the following notebook, we will show how to build complex queries in GOR using the Python SDK to connect to our instance. First, as always, we load the gor magic extension to be able to use the `%gor` and `%%gor` syntax.\n",
    "This notebook assumes you are familiar with the gor syntax."
   ]
  },
  {
   "cell_type": "code",
   "execution_count": 1,
   "metadata": {},
   "outputs": [],
   "source": [
    "# Install the python sdk, if needed\n",
    "! pip install nextcode-sdk[jupyter] -U >/dev/null"
   ]
  },
  {
   "cell_type": "code",
   "execution_count": 2,
   "metadata": {},
   "outputs": [
    {
     "name": "stdout",
     "output_type": "stream",
     "text": [
      " Gor magic extension has been loaded. You can now use '%gor' and '%%gor' in this notebook\n",
      " * Python SDK Version: 0.2.10\n",
      " * Query API Version: 1.9.0\n",
      " * GOR Version: 9.4-SNAPSHOT (git SHA 8fc327bb08282d02f9e987e11c4073e64ec77677)\n",
      " * Root Endpoint: https://platform.wuxinextcodedev.com/api/query/\n",
      " * Current User: jonb@wuxinextcode.com\n",
      "env: LOG_QUERY=1\n"
     ]
    }
   ],
   "source": [
    "# load the magic extension and imports\n",
    "%reload_ext nextcode\n",
    "import pandas as pd\n",
    "%env LOG_QUERY=1"
   ]
  },
  {
   "cell_type": "markdown",
   "metadata": {},
   "source": [
    "#### Simple single-line gor expression"
   ]
  },
  {
   "cell_type": "code",
   "execution_count": 3,
   "metadata": {},
   "outputs": [
    {
     "name": "stdout",
     "output_type": "stream",
     "text": [
      "Query 1953 returned 2 rows in 0.31 sec\n"
     ]
    },
    {
     "data": {
      "text/html": [
       "<div>\n",
       "<style scoped>\n",
       "    .dataframe tbody tr th:only-of-type {\n",
       "        vertical-align: middle;\n",
       "    }\n",
       "\n",
       "    .dataframe tbody tr th {\n",
       "        vertical-align: top;\n",
       "    }\n",
       "\n",
       "    .dataframe thead th {\n",
       "        text-align: right;\n",
       "    }\n",
       "</style>\n",
       "<table border=\"1\" class=\"dataframe\">\n",
       "  <thead>\n",
       "    <tr style=\"text-align: right;\">\n",
       "      <th></th>\n",
       "      <th>Chrom</th>\n",
       "      <th>pos</th>\n",
       "      <th>reference</th>\n",
       "      <th>allele</th>\n",
       "      <th>rsids</th>\n",
       "    </tr>\n",
       "  </thead>\n",
       "  <tbody>\n",
       "    <tr>\n",
       "      <th>0</th>\n",
       "      <td>chr1</td>\n",
       "      <td>10020</td>\n",
       "      <td>AA</td>\n",
       "      <td>A</td>\n",
       "      <td>rs775809821</td>\n",
       "    </tr>\n",
       "    <tr>\n",
       "      <th>1</th>\n",
       "      <td>chr1</td>\n",
       "      <td>10039</td>\n",
       "      <td>A</td>\n",
       "      <td>C</td>\n",
       "      <td>rs978760828</td>\n",
       "    </tr>\n",
       "  </tbody>\n",
       "</table>\n",
       "</div>"
      ],
      "text/plain": [
       "  Chrom    pos reference allele        rsids\n",
       "0  chr1  10020        AA      A  rs775809821\n",
       "1  chr1  10039         A      C  rs978760828"
      ]
     },
     "execution_count": 3,
     "metadata": {},
     "output_type": "execute_result"
    }
   ],
   "source": [
    "%gor nor #dbsnp# | top 2"
   ]
  },
  {
   "cell_type": "markdown",
   "metadata": {},
   "source": [
    "#### Single-line gor expression which stores results in local variable"
   ]
  },
  {
   "cell_type": "code",
   "execution_count": 4,
   "metadata": {},
   "outputs": [
    {
     "name": "stdout",
     "output_type": "stream",
     "text": [
      "Query 1954 returned 2 rows in 0.21 sec\n"
     ]
    },
    {
     "data": {
      "text/html": [
       "<div>\n",
       "<style scoped>\n",
       "    .dataframe tbody tr th:only-of-type {\n",
       "        vertical-align: middle;\n",
       "    }\n",
       "\n",
       "    .dataframe tbody tr th {\n",
       "        vertical-align: top;\n",
       "    }\n",
       "\n",
       "    .dataframe thead th {\n",
       "        text-align: right;\n",
       "    }\n",
       "</style>\n",
       "<table border=\"1\" class=\"dataframe\">\n",
       "  <thead>\n",
       "    <tr style=\"text-align: right;\">\n",
       "      <th></th>\n",
       "      <th>Chrom</th>\n",
       "      <th>pos</th>\n",
       "      <th>reference</th>\n",
       "      <th>allele</th>\n",
       "      <th>rsids</th>\n",
       "    </tr>\n",
       "  </thead>\n",
       "  <tbody>\n",
       "    <tr>\n",
       "      <th>0</th>\n",
       "      <td>chr1</td>\n",
       "      <td>10020</td>\n",
       "      <td>AA</td>\n",
       "      <td>A</td>\n",
       "      <td>rs775809821</td>\n",
       "    </tr>\n",
       "    <tr>\n",
       "      <th>1</th>\n",
       "      <td>chr1</td>\n",
       "      <td>10039</td>\n",
       "      <td>A</td>\n",
       "      <td>C</td>\n",
       "      <td>rs978760828</td>\n",
       "    </tr>\n",
       "  </tbody>\n",
       "</table>\n",
       "</div>"
      ],
      "text/plain": [
       "  Chrom    pos reference allele        rsids\n",
       "0  chr1  10020        AA      A  rs775809821\n",
       "1  chr1  10039         A      C  rs978760828"
      ]
     },
     "execution_count": 4,
     "metadata": {},
     "output_type": "execute_result"
    }
   ],
   "source": [
    "var = %gor nor #dbsnp# | top 2"
   ]
  },
  {
   "cell_type": "markdown",
   "metadata": {},
   "source": [
    "#### Simple multi-line gor expression\n",
    "Multi-line expressions are started with `%%`. Each statement should end with `;`"
   ]
  },
  {
   "cell_type": "code",
   "execution_count": 5,
   "metadata": {},
   "outputs": [
    {
     "name": "stdout",
     "output_type": "stream",
     "text": [
      "Query 1955 returned 2 rows in 0.21 sec\n"
     ]
    },
    {
     "data": {
      "text/html": [
       "<div>\n",
       "<style scoped>\n",
       "    .dataframe tbody tr th:only-of-type {\n",
       "        vertical-align: middle;\n",
       "    }\n",
       "\n",
       "    .dataframe tbody tr th {\n",
       "        vertical-align: top;\n",
       "    }\n",
       "\n",
       "    .dataframe thead th {\n",
       "        text-align: right;\n",
       "    }\n",
       "</style>\n",
       "<table border=\"1\" class=\"dataframe\">\n",
       "  <thead>\n",
       "    <tr style=\"text-align: right;\">\n",
       "      <th></th>\n",
       "      <th>Chrom</th>\n",
       "      <th>pos</th>\n",
       "      <th>reference</th>\n",
       "      <th>allele</th>\n",
       "      <th>rsids</th>\n",
       "    </tr>\n",
       "  </thead>\n",
       "  <tbody>\n",
       "    <tr>\n",
       "      <th>0</th>\n",
       "      <td>chr1</td>\n",
       "      <td>10020</td>\n",
       "      <td>AA</td>\n",
       "      <td>A</td>\n",
       "      <td>rs775809821</td>\n",
       "    </tr>\n",
       "    <tr>\n",
       "      <th>1</th>\n",
       "      <td>chr1</td>\n",
       "      <td>10039</td>\n",
       "      <td>A</td>\n",
       "      <td>C</td>\n",
       "      <td>rs978760828</td>\n",
       "    </tr>\n",
       "  </tbody>\n",
       "</table>\n",
       "</div>"
      ],
      "text/plain": [
       "  Chrom    pos reference allele        rsids\n",
       "0  chr1  10020        AA      A  rs775809821\n",
       "1  chr1  10039         A      C  rs978760828"
      ]
     },
     "execution_count": 5,
     "metadata": {},
     "output_type": "execute_result"
    }
   ],
   "source": [
    "%%gor\n",
    "  def #top# = 2;\n",
    "  gor #dbsnp#\n",
    "   | top #top#;"
   ]
  },
  {
   "cell_type": "markdown",
   "metadata": {},
   "source": [
    "#### Multi-line gor expression which stores results in local variable\n",
    "To load results from a multi-line gor expression into a variable you can use the special `<<` operator"
   ]
  },
  {
   "cell_type": "code",
   "execution_count": 6,
   "metadata": {},
   "outputs": [
    {
     "name": "stdout",
     "output_type": "stream",
     "text": [
      "Query 1956 returned 10 rows in 0.21 sec\n"
     ]
    }
   ],
   "source": [
    "%%gor new_results <<\n",
    "def #tops# = 10;\n",
    "gor #dbsnp# | top #tops#;"
   ]
  },
  {
   "cell_type": "code",
   "execution_count": 7,
   "metadata": {},
   "outputs": [
    {
     "data": {
      "text/plain": [
       "RangeIndex(start=0, stop=10, step=1)"
      ]
     },
     "execution_count": 7,
     "metadata": {},
     "output_type": "execute_result"
    }
   ],
   "source": [
    "new_results.index"
   ]
  },
  {
   "cell_type": "markdown",
   "metadata": {},
   "source": [
    "#### Store results in the user_data folder\n",
    "Instead of fetching the data to the jupyter server you can also use the << operator to store files in the user_data folder within the project on NFS."
   ]
  },
  {
   "cell_type": "code",
   "execution_count": 8,
   "metadata": {},
   "outputs": [
    {
     "name": "stdout",
     "output_type": "stream",
     "text": [
      "Query 1957 returned 38000 rows in 0.48 sec\n"
     ]
    }
   ],
   "source": [
    "%%gor user_data/outfile.gorz <<\n",
    "  pgor #dbsnp#\n",
    "   | top 1000;"
   ]
  },
  {
   "cell_type": "code",
   "execution_count": 9,
   "metadata": {},
   "outputs": [
    {
     "name": "stdout",
     "output_type": "stream",
     "text": [
      "outfile.gorz (345.1KiB)\n"
     ]
    }
   ],
   "source": [
    "# verify that the file is there by executing gorls\n",
    "%gorls user_data outfile.gorz"
   ]
  },
  {
   "cell_type": "code",
   "execution_count": 10,
   "metadata": {},
   "outputs": [
    {
     "name": "stdout",
     "output_type": "stream",
     "text": [
      "Query 1959 returned 2 rows in 0.21 sec\n"
     ]
    },
    {
     "data": {
      "text/html": [
       "<div>\n",
       "<style scoped>\n",
       "    .dataframe tbody tr th:only-of-type {\n",
       "        vertical-align: middle;\n",
       "    }\n",
       "\n",
       "    .dataframe tbody tr th {\n",
       "        vertical-align: top;\n",
       "    }\n",
       "\n",
       "    .dataframe thead th {\n",
       "        text-align: right;\n",
       "    }\n",
       "</style>\n",
       "<table border=\"1\" class=\"dataframe\">\n",
       "  <thead>\n",
       "    <tr style=\"text-align: right;\">\n",
       "      <th></th>\n",
       "      <th>Chrom</th>\n",
       "      <th>bpStart</th>\n",
       "      <th>bpStop</th>\n",
       "      <th>allCount</th>\n",
       "    </tr>\n",
       "  </thead>\n",
       "  <tbody>\n",
       "    <tr>\n",
       "      <th>0</th>\n",
       "      <td>chr1</td>\n",
       "      <td>0</td>\n",
       "      <td>248956422</td>\n",
       "      <td>2000</td>\n",
       "    </tr>\n",
       "    <tr>\n",
       "      <th>1</th>\n",
       "      <td>chr10</td>\n",
       "      <td>0</td>\n",
       "      <td>133797422</td>\n",
       "      <td>2000</td>\n",
       "    </tr>\n",
       "  </tbody>\n",
       "</table>\n",
       "</div>"
      ],
      "text/plain": [
       "   Chrom  bpStart     bpStop  allCount\n",
       "0   chr1        0  248956422      2000\n",
       "1  chr10        0  133797422      2000"
      ]
     },
     "execution_count": 10,
     "metadata": {},
     "output_type": "execute_result"
    }
   ],
   "source": [
    "# now you can gor this file and bring the results into a local dataframe\n",
    "%gor user_data/outfile.gorz | GROUP chrom -count | top 2"
   ]
  },
  {
   "cell_type": "markdown",
   "metadata": {},
   "source": [
    "#### Gor expression which references a local variable\n",
    "Local variables can be references using the `$xxx` syntax. This will expand the variable inline and is meant to be used for simple strings and numbers"
   ]
  },
  {
   "cell_type": "code",
   "execution_count": 11,
   "metadata": {},
   "outputs": [],
   "source": [
    "n = 5"
   ]
  },
  {
   "cell_type": "code",
   "execution_count": 12,
   "metadata": {},
   "outputs": [
    {
     "name": "stdout",
     "output_type": "stream",
     "text": [
      "Query 1960 returned 5 rows in 0.21 sec\n"
     ]
    },
    {
     "data": {
      "text/html": [
       "<div>\n",
       "<style scoped>\n",
       "    .dataframe tbody tr th:only-of-type {\n",
       "        vertical-align: middle;\n",
       "    }\n",
       "\n",
       "    .dataframe tbody tr th {\n",
       "        vertical-align: top;\n",
       "    }\n",
       "\n",
       "    .dataframe thead th {\n",
       "        text-align: right;\n",
       "    }\n",
       "</style>\n",
       "<table border=\"1\" class=\"dataframe\">\n",
       "  <thead>\n",
       "    <tr style=\"text-align: right;\">\n",
       "      <th></th>\n",
       "      <th>Chrom</th>\n",
       "      <th>pos</th>\n",
       "      <th>reference</th>\n",
       "      <th>allele</th>\n",
       "      <th>rsids</th>\n",
       "    </tr>\n",
       "  </thead>\n",
       "  <tbody>\n",
       "    <tr>\n",
       "      <th>0</th>\n",
       "      <td>chr1</td>\n",
       "      <td>69045</td>\n",
       "      <td>A</td>\n",
       "      <td>G</td>\n",
       "      <td>rs1360507296</td>\n",
       "    </tr>\n",
       "    <tr>\n",
       "      <th>1</th>\n",
       "      <td>chr1</td>\n",
       "      <td>69063</td>\n",
       "      <td>T</td>\n",
       "      <td>C</td>\n",
       "      <td>rs1260343719</td>\n",
       "    </tr>\n",
       "    <tr>\n",
       "      <th>2</th>\n",
       "      <td>chr1</td>\n",
       "      <td>69071</td>\n",
       "      <td>C</td>\n",
       "      <td>A</td>\n",
       "      <td>rs1314111151</td>\n",
       "    </tr>\n",
       "    <tr>\n",
       "      <th>3</th>\n",
       "      <td>chr1</td>\n",
       "      <td>69071</td>\n",
       "      <td>C</td>\n",
       "      <td>G</td>\n",
       "      <td>rs1314111151</td>\n",
       "    </tr>\n",
       "    <tr>\n",
       "      <th>4</th>\n",
       "      <td>chr1</td>\n",
       "      <td>69072</td>\n",
       "      <td>G</td>\n",
       "      <td>A</td>\n",
       "      <td>rs1379296286</td>\n",
       "    </tr>\n",
       "  </tbody>\n",
       "</table>\n",
       "</div>"
      ],
      "text/plain": [
       "  Chrom    pos reference allele         rsids\n",
       "0  chr1  69045         A      G  rs1360507296\n",
       "1  chr1  69063         T      C  rs1260343719\n",
       "2  chr1  69071         C      A  rs1314111151\n",
       "3  chr1  69071         C      G  rs1314111151\n",
       "4  chr1  69072         G      A  rs1379296286"
      ]
     },
     "execution_count": 12,
     "metadata": {},
     "output_type": "execute_result"
    }
   ],
   "source": [
    "%%gor\n",
    "  gor -p chr1:69000-70000 #dbsnp#\n",
    "   | TOP $n;"
   ]
  },
  {
   "cell_type": "markdown",
   "metadata": {},
   "source": [
    "#### Gor expression with defs and create statements"
   ]
  },
  {
   "cell_type": "code",
   "execution_count": 13,
   "metadata": {},
   "outputs": [
    {
     "name": "stdout",
     "output_type": "stream",
     "text": [
      "Query 1961 returned 5 rows in 0.21 sec\n"
     ]
    },
    {
     "data": {
      "text/html": [
       "<div>\n",
       "<style scoped>\n",
       "    .dataframe tbody tr th:only-of-type {\n",
       "        vertical-align: middle;\n",
       "    }\n",
       "\n",
       "    .dataframe tbody tr th {\n",
       "        vertical-align: top;\n",
       "    }\n",
       "\n",
       "    .dataframe thead th {\n",
       "        text-align: right;\n",
       "    }\n",
       "</style>\n",
       "<table border=\"1\" class=\"dataframe\">\n",
       "  <thead>\n",
       "    <tr style=\"text-align: right;\">\n",
       "      <th></th>\n",
       "      <th>Chrom</th>\n",
       "      <th>pos</th>\n",
       "      <th>reference</th>\n",
       "      <th>allele</th>\n",
       "      <th>rsids</th>\n",
       "    </tr>\n",
       "  </thead>\n",
       "  <tbody>\n",
       "    <tr>\n",
       "      <th>0</th>\n",
       "      <td>chr1</td>\n",
       "      <td>69045</td>\n",
       "      <td>A</td>\n",
       "      <td>G</td>\n",
       "      <td>rs1360507296</td>\n",
       "    </tr>\n",
       "    <tr>\n",
       "      <th>1</th>\n",
       "      <td>chr1</td>\n",
       "      <td>69063</td>\n",
       "      <td>T</td>\n",
       "      <td>C</td>\n",
       "      <td>rs1260343719</td>\n",
       "    </tr>\n",
       "    <tr>\n",
       "      <th>2</th>\n",
       "      <td>chr1</td>\n",
       "      <td>69071</td>\n",
       "      <td>C</td>\n",
       "      <td>A</td>\n",
       "      <td>rs1314111151</td>\n",
       "    </tr>\n",
       "    <tr>\n",
       "      <th>3</th>\n",
       "      <td>chr1</td>\n",
       "      <td>69071</td>\n",
       "      <td>C</td>\n",
       "      <td>G</td>\n",
       "      <td>rs1314111151</td>\n",
       "    </tr>\n",
       "    <tr>\n",
       "      <th>4</th>\n",
       "      <td>chr1</td>\n",
       "      <td>69072</td>\n",
       "      <td>G</td>\n",
       "      <td>A</td>\n",
       "      <td>rs1379296286</td>\n",
       "    </tr>\n",
       "  </tbody>\n",
       "</table>\n",
       "</div>"
      ],
      "text/plain": [
       "  Chrom    pos reference allele         rsids\n",
       "0  chr1  69045         A      G  rs1360507296\n",
       "1  chr1  69063         T      C  rs1260343719\n",
       "2  chr1  69071         C      A  rs1314111151\n",
       "3  chr1  69071         C      G  rs1314111151\n",
       "4  chr1  69072         G      A  rs1379296286"
      ]
     },
     "execution_count": 13,
     "metadata": {},
     "output_type": "execute_result"
    }
   ],
   "source": [
    "%%gor\n",
    "def #number# = $n;\n",
    "def #VEP_single# = UKBB/freezes/2019_0325/plink_wes/vep_single.gorz;\n",
    "def #myfavouritefood# = pizza;\n",
    "\n",
    "create mydbsnp = gor -p chr1:69000-70000 #dbsnp#\n",
    "                  | TOP #number#;\n",
    "\n",
    "gor [mydbsnp];"
   ]
  },
  {
   "cell_type": "markdown",
   "metadata": {},
   "source": [
    "#### Compound expressions\n",
    "Using the local variables you can construct compount expressions, allowing you to split up long gor scripts."
   ]
  },
  {
   "cell_type": "code",
   "execution_count": 14,
   "metadata": {},
   "outputs": [],
   "source": [
    "defs = \"\"\"\n",
    "def #myfirstdef# = 2;\n",
    "def #myseconddef# = 2;\n",
    "\n",
    "\"\"\"\n",
    "creates = \"\"\"\n",
    "create mydbsnp = gor -p chr1:69000-70000 #dbsnp#\n",
    "                  | TOP #myfirstdef#;\n",
    "\"\"\""
   ]
  },
  {
   "cell_type": "code",
   "execution_count": 15,
   "metadata": {},
   "outputs": [
    {
     "name": "stdout",
     "output_type": "stream",
     "text": [
      "Query 1962 returned 2 rows in 0.21 sec\n"
     ]
    },
    {
     "data": {
      "text/html": [
       "<div>\n",
       "<style scoped>\n",
       "    .dataframe tbody tr th:only-of-type {\n",
       "        vertical-align: middle;\n",
       "    }\n",
       "\n",
       "    .dataframe tbody tr th {\n",
       "        vertical-align: top;\n",
       "    }\n",
       "\n",
       "    .dataframe thead th {\n",
       "        text-align: right;\n",
       "    }\n",
       "</style>\n",
       "<table border=\"1\" class=\"dataframe\">\n",
       "  <thead>\n",
       "    <tr style=\"text-align: right;\">\n",
       "      <th></th>\n",
       "      <th>Chrom</th>\n",
       "      <th>pos</th>\n",
       "      <th>reference</th>\n",
       "      <th>allele</th>\n",
       "      <th>rsids</th>\n",
       "    </tr>\n",
       "  </thead>\n",
       "  <tbody>\n",
       "    <tr>\n",
       "      <th>0</th>\n",
       "      <td>chr1</td>\n",
       "      <td>69045</td>\n",
       "      <td>A</td>\n",
       "      <td>G</td>\n",
       "      <td>rs1360507296</td>\n",
       "    </tr>\n",
       "    <tr>\n",
       "      <th>1</th>\n",
       "      <td>chr1</td>\n",
       "      <td>69063</td>\n",
       "      <td>T</td>\n",
       "      <td>C</td>\n",
       "      <td>rs1260343719</td>\n",
       "    </tr>\n",
       "  </tbody>\n",
       "</table>\n",
       "</div>"
      ],
      "text/plain": [
       "  Chrom    pos reference allele         rsids\n",
       "0  chr1  69045         A      G  rs1360507296\n",
       "1  chr1  69063         T      C  rs1260343719"
      ]
     },
     "execution_count": 15,
     "metadata": {},
     "output_type": "execute_result"
    }
   ],
   "source": [
    "%%gor\n",
    " $defs\n",
    " $creates\n",
    "\n",
    " gor [mydbsnp];"
   ]
  },
  {
   "cell_type": "markdown",
   "metadata": {},
   "source": [
    "#### Virtual relations\n",
    "You can load pandas dataframes into the query with the special `[var:xxx]` syntax."
   ]
  },
  {
   "cell_type": "code",
   "execution_count": 16,
   "metadata": {},
   "outputs": [],
   "source": [
    "allpns = pd.read_csv('data/allpns.tsv', delimiter='\\t')"
   ]
  },
  {
   "cell_type": "code",
   "execution_count": 17,
   "metadata": {},
   "outputs": [
    {
     "name": "stdout",
     "output_type": "stream",
     "text": [
      "Loading relations [var:allpns] from local state\n",
      "Query 1963 returned 5 rows in 0.37 sec\n"
     ]
    },
    {
     "data": {
      "text/html": [
       "<div>\n",
       "<style scoped>\n",
       "    .dataframe tbody tr th:only-of-type {\n",
       "        vertical-align: middle;\n",
       "    }\n",
       "\n",
       "    .dataframe tbody tr th {\n",
       "        vertical-align: top;\n",
       "    }\n",
       "\n",
       "    .dataframe thead th {\n",
       "        text-align: right;\n",
       "    }\n",
       "</style>\n",
       "<table border=\"1\" class=\"dataframe\">\n",
       "  <thead>\n",
       "    <tr style=\"text-align: right;\">\n",
       "      <th></th>\n",
       "      <th>PN</th>\n",
       "    </tr>\n",
       "  </thead>\n",
       "  <tbody>\n",
       "    <tr>\n",
       "      <th>0</th>\n",
       "      <td>1000786</td>\n",
       "    </tr>\n",
       "    <tr>\n",
       "      <th>1</th>\n",
       "      <td>1629813</td>\n",
       "    </tr>\n",
       "    <tr>\n",
       "      <th>2</th>\n",
       "      <td>5137728</td>\n",
       "    </tr>\n",
       "    <tr>\n",
       "      <th>3</th>\n",
       "      <td>1001070</td>\n",
       "    </tr>\n",
       "    <tr>\n",
       "      <th>4</th>\n",
       "      <td>2489370</td>\n",
       "    </tr>\n",
       "  </tbody>\n",
       "</table>\n",
       "</div>"
      ],
      "text/plain": [
       "        PN\n",
       "0  1000786\n",
       "1  1629813\n",
       "2  5137728\n",
       "3  1001070\n",
       "4  2489370"
      ]
     },
     "execution_count": 17,
     "metadata": {},
     "output_type": "execute_result"
    }
   ],
   "source": [
    "%%gor\n",
    "  create bla = gor #dbsnp#\n",
    "   | top 10;\n",
    "  nor [var:allpns]\n",
    "   | top 5;"
   ]
  },
  {
   "cell_type": "markdown",
   "metadata": {},
   "source": [
    "#### Cancelling queries\n",
    "Try executing this long-running query and then click the stop button"
   ]
  },
  {
   "cell_type": "code",
   "execution_count": 19,
   "metadata": {},
   "outputs": [
    {
     "name": "stderr",
     "output_type": "stream",
     "text": [
      "Query has been cancelled\n"
     ]
    }
   ],
   "source": [
    "results = %gor gor #dbsnp# | GROUP chrom -count"
   ]
  },
  {
   "cell_type": "markdown",
   "metadata": {},
   "source": [
    "### Using the SDK without magic syntax\n",
    "The `%` and `%%` is simply syntactic sugar for executing queries through the python sdk. You can use the sdk directly as well and that is probably the preferred method for serious analysis."
   ]
  },
  {
   "cell_type": "markdown",
   "metadata": {},
   "source": [
    "#### Initializing the SDK\n",
    "The SDK usually needs to be initialized with an API key and a project. However, in Wuxi notebooks this has already been done for you."
   ]
  },
  {
   "cell_type": "code",
   "execution_count": 20,
   "metadata": {},
   "outputs": [],
   "source": [
    "#%env GOR_API_KEY=[jwt token]\n",
    "#%env GOR_API_PROJECT=[project name]\n",
    "import nextcode\n",
    "import pandas\n",
    "# get a handle on a query service proxy\n",
    "svc = nextcode.get_service(\"query\")"
   ]
  },
  {
   "cell_type": "markdown",
   "metadata": {},
   "source": [
    "#### Running basic queries"
   ]
  },
  {
   "cell_type": "code",
   "execution_count": 21,
   "metadata": {},
   "outputs": [
    {
     "name": "stdout",
     "output_type": "stream",
     "text": [
      "Query 1966 is DONE. Runtime was 42 ms and it produced 2 rows.\n",
      "The query that was run: gor #dbsnp# | top 2;\n"
     ]
    },
    {
     "data": {
      "text/html": [
       "<div>\n",
       "<style scoped>\n",
       "    .dataframe tbody tr th:only-of-type {\n",
       "        vertical-align: middle;\n",
       "    }\n",
       "\n",
       "    .dataframe tbody tr th {\n",
       "        vertical-align: top;\n",
       "    }\n",
       "\n",
       "    .dataframe thead th {\n",
       "        text-align: right;\n",
       "    }\n",
       "</style>\n",
       "<table border=\"1\" class=\"dataframe\">\n",
       "  <thead>\n",
       "    <tr style=\"text-align: right;\">\n",
       "      <th></th>\n",
       "      <th>Chrom</th>\n",
       "      <th>pos</th>\n",
       "      <th>reference</th>\n",
       "      <th>allele</th>\n",
       "      <th>rsids</th>\n",
       "    </tr>\n",
       "  </thead>\n",
       "  <tbody>\n",
       "    <tr>\n",
       "      <th>0</th>\n",
       "      <td>chr1</td>\n",
       "      <td>10020</td>\n",
       "      <td>AA</td>\n",
       "      <td>A</td>\n",
       "      <td>rs775809821</td>\n",
       "    </tr>\n",
       "    <tr>\n",
       "      <th>1</th>\n",
       "      <td>chr1</td>\n",
       "      <td>10039</td>\n",
       "      <td>A</td>\n",
       "      <td>C</td>\n",
       "      <td>rs978760828</td>\n",
       "    </tr>\n",
       "  </tbody>\n",
       "</table>\n",
       "</div>"
      ],
      "text/plain": [
       "  Chrom    pos reference allele        rsids\n",
       "0  chr1  10020        AA      A  rs775809821\n",
       "1  chr1  10039         A      C  rs978760828"
      ]
     },
     "execution_count": 21,
     "metadata": {},
     "output_type": "execute_result"
    }
   ],
   "source": [
    "qry = svc.execute(\"gor #dbsnp# | top 2;\")\n",
    "print(f\"Query {qry.query_id} is {qry.status}. Runtime was {qry.duration} ms and it produced {qry.line_count} rows.\")\n",
    "print(f\"The query that was run: {qry.query}\")\n",
    "from pprint import pprint\n",
    "df = qry.dataframe()\n",
    "df"
   ]
  },
  {
   "cell_type": "markdown",
   "metadata": {},
   "source": [
    "#### Analysing failed queries"
   ]
  },
  {
   "cell_type": "code",
   "execution_count": 22,
   "metadata": {},
   "outputs": [
    {
     "name": "stderr",
     "output_type": "stream",
     "text": [
      "Query failed with error: Resource not found for iterator: /mnt/csa/env/dev/projects/ukbb_hg38/#unknowndef# /mnt/csa/env/dev/projects/ukbb_hg38/#unknowndef#\n",
      "\n",
      "Additional information available from qry.error[]: ['command', 'commandIndex', 'commandName', 'commandSource', 'description', 'errorType', 'gorMessage', 'message', 'requestId', 'stackTrace', 'type', 'uri']\n"
     ]
    }
   ],
   "source": [
    "qry = svc.execute(\"gor #unknowndef# | top 2;\")\n",
    "if qry.status == \"FAILED\":\n",
    "    import sys\n",
    "    print(f\"Query failed with error: {qry.error['message']}\\n\", file=sys.stderr)\n",
    "    print(f\"Additional information available from qry.error[]: {list(qry.error.keys())}\", file=sys.stderr)"
   ]
  },
  {
   "cell_type": "markdown",
   "metadata": {},
   "source": [
    "#### Using virtual relations"
   ]
  },
  {
   "cell_type": "code",
   "execution_count": 23,
   "metadata": {},
   "outputs": [
    {
     "name": "stdout",
     "output_type": "stream",
     "text": [
      "   hello  world\n",
      "0      1      2\n",
      "   hello  world\n",
      "0      1      2\n",
      "   hello  world\n",
      "0      1      2\n"
     ]
    }
   ],
   "source": [
    "import pandas as pd\n",
    "import nextcode\n",
    "svc = nextcode.get_service(\"query\")\n",
    "\n",
    "# use a dataframe as a virtual relation\n",
    "df = pd.DataFrame(columns=[\"hello\", \"world\"], data=[[1, 2]])\n",
    "qry = svc.execute(\"gor [test]\", test=df)\n",
    "print(qry.dataframe())\n",
    "\n",
    "# use a tsv string as a virtual relation\n",
    "tsv = \"\"\"hello\\tworld\\n1\\t2\"\"\"\n",
    "qry = svc.execute(\"gor [test]\", test=tsv)\n",
    "print(qry.dataframe())\n",
    "\n",
    "# if your virtual relation uses special characters (:) in variable name\n",
    "qry = svc.execute(\"gor [var:test]\", relations=[{\"name\": \"var:test\", \"data\": df}])\n",
    "print(qry.dataframe())"
   ]
  },
  {
   "cell_type": "code",
   "execution_count": null,
   "metadata": {},
   "outputs": [],
   "source": []
  }
 ],
 "metadata": {
  "kernelspec": {
   "display_name": "Python 3",
   "language": "python",
   "name": "python3"
  },
  "language_info": {
   "codemirror_mode": {
    "name": "ipython",
    "version": 3
   },
   "file_extension": ".py",
   "mimetype": "text/x-python",
   "name": "python",
   "nbconvert_exporter": "python",
   "pygments_lexer": "ipython3",
   "version": "3.7.3"
  }
 },
 "nbformat": 4,
 "nbformat_minor": 4
}
